{
 "cells": [
  {
   "cell_type": "markdown",
   "metadata": {},
   "source": [
    "# Punto 1\n",
    "\n",
    "$$F_{(S)}=\\frac{1}{S^3 + S^2 +2S +1} =Y_{21(S)}$$\n",
    "Necesito que el numerador sea Impar, por lo tanto dado que el numerador esta compuesto por \"1\"(funcion par) dividimos por la parte impar del denominador.<br>\n",
    "Resultando en:\n",
    "$$F_{(S)}=\\frac{Y_{21}}{Y_{22}+1}=\\frac{\\frac{1}{S^3+2S}}{\\frac{S^2+1}{S^3+2S}+1}$$\n",
    "## El 1.1 no se me ocurre como meterlo aca sin subir dibujitos asique si me pinta despue subo los dibujitos!(Si, me hacen bullying por dibujar con los pies)"
   ]
  },
  {
   "cell_type": "code",
   "execution_count": 2,
   "metadata": {},
   "outputs": [
    {
     "name": "stdout",
     "output_type": "stream",
     "text": [
      "Veamos como queda el Y22 sin olvidar que los polos de Y21 son compartidos con Y22\n",
      "      S   \n",
      "S + ──────\n",
      "     2    \n",
      "    S  + 1\n",
      "Aqui podemos ver claramente un inductor en serie y algo mas...\n",
      "Que para facilitar lo que viene despues buscaremos darle forma de red T.\n",
      "    1\n",
      "S + ─\n",
      "    S\n",
      "Aca a simple vista se ve el capacitor en derivacion =1 y el inductor serie =1\n"
     ]
    }
   ],
   "source": [
    "from scipy import signal\n",
    "from sympy import *\n",
    "import matplotlib.pyplot as plt\n",
    "import math as m\n",
    "from splane import pzmap, grpDelay, bodePlot\n",
    "import numpy as np\n",
    "\n",
    "S=symbols('S')\n",
    "\n",
    "print(\"Veamos como queda el Y22 sin olvidar que los polos de Y21 son compartidos con Y22\")\n",
    "Y22=(S**2+1)/(S**3+2*S)\n",
    "Z=1/Y22\n",
    "pprint(apart(Z))\n",
    "print(\"Aqui podemos ver claramente un inductor en serie y algo mas...\\nQue para facilitar lo que viene despues buscaremos darle forma de red T.\")\n",
    "Z2=Z-S\n",
    "Y2=1/Z2\n",
    "pprint(apart(Y2))\n",
    "print(\"Aca a simple vista se ve el capacitor en derivacion =1 y el inductor serie =1\")"
   ]
  },
  {
   "cell_type": "markdown",
   "metadata": {},
   "source": [
    "# Verifico con un simulador porque soy un comodo =)"
   ]
  },
  {
   "cell_type": "markdown",
   "metadata": {},
   "source": [
    "<img src=\"./1.2 verificacion.PNG\" align=\"center\" width=\"80%\" />"
   ]
  },
  {
   "cell_type": "markdown",
   "metadata": {},
   "source": [
    "Esta red responde a: $$Z_{ot}=\\sqrt{(Z_1 Z_2)} \\sqrt{(1+ \\frac{Z_1}{4Z_2})}$$\n",
    "Siendo que es un pasa bajos entonces $Z_1=JWL$ y $Z_2=\\frac{1}{JWC}$<br>\n",
    "Resultando en:$$Z_{ot}=\\sqrt{\\frac{L}{C}}\\sqrt{1- \\frac{W^2 LC}{4}}$$"
   ]
  },
  {
   "cell_type": "code",
   "execution_count": 6,
   "metadata": {},
   "outputs": [
    {
     "name": "stderr",
     "output_type": "stream",
     "text": [
      "C:\\Users\\Usuario\\anaconda3\\lib\\site-packages\\ipykernel_launcher.py:3: RuntimeWarning: invalid value encountered in sqrt\n",
      "  This is separate from the ipykernel package so we can avoid doing imports until\n"
     ]
    },
    {
     "data": {
      "image/png": "[encoded data removed]",
      "text/plain": [
       "<Figure size 432x288 with 1 Axes>"
      ]
     },
     "metadata": {
      "needs_background": "light"
     },
     "output_type": "display_data"
    },
    {
     "name": "stdout",
     "output_type": "stream",
     "text": [
      "Esta es la Zot ahora procedemos a adaptarla y luego graficar todo junto.\n",
      "\n"
     ]
    }
   ],
   "source": [
    "#Se reemplazo L=2 C=1\n",
    "x1=np.arange(0,4,0.1)\n",
    "y1=np.sqrt(2-(x1**2 * 2**2)/4)\n",
    "plt.plot(x1,y1)\n",
    "plt.show()\n",
    "print(\"Esta es la Zot ahora procedemos a adaptarla y luego graficar todo junto.\\n\")"
   ]
  },
  {
   "cell_type": "markdown",
   "metadata": {},
   "source": [
    "<img src=\"./Plantilla m derivado.PNG\" align=\"center\" width=\"80%\" />"
   ]
  },
  {
   "cell_type": "code",
   "execution_count": 7,
   "metadata": {},
   "outputs": [
    {
     "name": "stdout",
     "output_type": "stream",
     "text": [
      "Sabemos que el valor de m que mejor adapta la red es 0.6 entonces hacemos los calculos para ese valor.\n",
      "\n",
      "El La vale: 1.2 \n",
      "\n",
      "El Lb vale: 0.5333333333333333 \n",
      "\n",
      "El Cb vale: 0.6 \n",
      "\n"
     ]
    }
   ],
   "source": [
    "print(\"Sabemos que el valor de m que mejor adapta la red es 0.6 entonces hacemos los calculos para ese valor.\\n\")\n",
    "Lk=2\n",
    "Ck=1\n",
    "m=0.6\n",
    "La=m*Lk\n",
    "Lb=Lk*(1-m**2)/(4*m)\n",
    "Cb=m*Ck\n",
    "print(\"El La vale:\",La,\"\\n\")\n",
    "print(\"El Lb vale:\",Lb,\"\\n\")\n",
    "print(\"El Cb vale:\",Cb,\"\\n\")"
   ]
  },
  {
   "cell_type": "markdown",
   "metadata": {},
   "source": [
    "<img src=\"./Zw.PNG\" align=\"center\" width=\"80%\" />"
   ]
  },
  {
   "cell_type": "markdown",
   "metadata": {},
   "source": [
    "# No se nos aclara para el 1.4 una frecuencia asumimos que seguimos con W=1"
   ]
  },
  {
   "cell_type": "code",
   "execution_count": 10,
   "metadata": {},
   "outputs": [
    {
     "name": "stdout",
     "output_type": "stream",
     "text": [
      "R[ 1 ] valia 1 => 50\n",
      "C[ 1 ] valia 0.3 => 0.006\n",
      "C[ 2 ] valia 1 => 0.02\n",
      "L[ 1 ] valia 1.06 => 53.0\n",
      "L[ 2 ] valia 1.6 => 80.0\n"
     ]
    }
   ],
   "source": [
    "##########Constantes de Desnormalizacion#############\n",
    "N_z=50\n",
    "#N_w=1*10**9*2*m.pi\n",
    "N_w=1\n",
    "####Vector de resistencias Normalizadas#############\n",
    "#####Se debe inicializar con los valores de tus resistencias########\n",
    "R_n=[1]\n",
    "\n",
    "####Vector de resistencias Desnormalizadas##########\n",
    "R=[]\n",
    "for i in range(len(R_n)):\n",
    "    \n",
    "    R.append(R_n[i]*N_z)\n",
    "    print('R[',i+1,'] valia',R_n[i],'=>',R[i])\n",
    "\n",
    "####Vector de capacitores Normalizados#############\n",
    "#####Se debe inicializar con los valores de tus capacitores########\n",
    "C_n=[0.3,1]\n",
    "\n",
    "####Vector de Capacitores Desnormalizados##########\n",
    "\n",
    "C=[]\n",
    "for i in range(len(C_n)):\n",
    "    C.append(C_n[i]/N_z / N_w)\n",
    "    print('C[',i+1,'] valia',C_n[i],'=>',C[i])\n",
    "\n",
    "####Vector de inductores Normalizados#############\n",
    "#####Se debe inicializar con los valores de tus inductores########\n",
    "L_n=[1.06,1.6]\n",
    "\n",
    "####Vector de inductores Desnormalizados##########\n",
    "\n",
    "L=[]\n",
    "for i in range(len(L_n)):\n",
    "    L.append(L_n[i]*N_z/N_w)\n",
    "    print('L[',i+1,'] valia',L_n[i],'=>',L[i])\n"
   ]
  },
  {
   "cell_type": "markdown",
   "metadata": {},
   "source": [
    "# Punto 1.5\n",
    "Planteamos $$S_{11}=\\frac{Z_1 -R_{01}}{Z_1 +R_{01}}$$\n",
    "<br>\n",
    "$$S_{22}=\\frac{Z_2 -R_{02}}{Z_1 +R_{02}}$$\n",
    "<br>\n",
    "$$S_{21}=\\frac{V2}{Vg1/2}\\sqrt{\\frac{R_2}{R1}}$$\n",
    "Algunas consideraciones que podemos hacer por como es la red en si misma son las siguientes:\n",
    "$$Z_1=Z_2$$\n",
    "Esto por ser simetrica.<br>\n",
    "$$S_{21}=S_{12}$$\n",
    "Esto por ser reciproca.<br>\n",
    "$$S_{11}=S_{22}$$\n",
    "Esto por ser simetrica.<br>\n",
    "Ahora procedemos a calcular Z1"
   ]
  },
  {
   "cell_type": "code",
   "execution_count": 18,
   "metadata": {},
   "outputs": [
    {
     "name": "stdout",
     "output_type": "stream",
     "text": [
      "Z1 queda entonces:\n",
      "          1\n",
      "2⋅S + 1 + ─\n",
      "          S\n",
      "De aqui que S11=\n",
      "       2       \n",
      "    2⋅S  + 1   \n",
      "───────────────\n",
      "2⋅S⋅(S + 1) + 1\n",
      "S21 es:\n",
      "        1        \n",
      "─────────────────\n",
      " 3    2          \n",
      "S  + S  + 2⋅S + 1\n"
     ]
    }
   ],
   "source": [
    "#R,L,C son datos conocidos\n",
    "L=1\n",
    "C=1\n",
    "R=1\n",
    "Paralelo_Z=(S*L + R) +1/S*C\n",
    "Z1=Paralelo_Z +S*L\n",
    "print(\"Z1 queda entonces:\")\n",
    "pprint((Z1))\n",
    "print(\"De aqui que S11=\")\n",
    "S11=(Z1-R)/(Z1+R)\n",
    "pprint(simplify(S11))\n",
    "#S21 es una transferencia de tensiones que ya conocemos...\n",
    "S21=1/(S**3+S**2+2*S+1)\n",
    "print(\"S21 es:\")\n",
    "pprint(S21)"
   ]
  },
  {
   "cell_type": "markdown",
   "metadata": {},
   "source": [
    "# Punto2\n",
    "Planteo la suma de dos cuadripolos Y cascadeados con uno T\n",
    "$$Y_{equivalente}=Y_{FET}+Y_C$$\n",
    "El $Y_{equivalente}$ lo pasamos a un $T_{equivalente}$\n",
    "Con la siguiente identidad:\n",
    "$$\\begin{bmatrix}\n",
    "Y_{11} & Y_{12}\\\\\n",
    "Y_{21} & Y_{22}\n",
    "\\end{bmatrix}=\\begin{bmatrix}\n",
    "\\frac{-Y_{22}}{Y_{21}} & \\frac{-1}{Y_{21}}\\\\\n",
    "\\frac{-\\Delta Y}{Y_{21}} & \\frac{-Y_{11}}{Y_{21}}\n",
    "\\end{bmatrix}$$\n",
    "El cuadripolo Y del capacitor se halla facil si lo asimilamos a la red pi en la que el componente del medio vale $-Y_{12}$.<br>\n",
    "Por las dudas explicito las ecuaciones y despues agrego un dibujito...\n",
    "$$SC=-Y_{12}$$\n",
    "$$0=Y_{22}+Y_{12}$$\n",
    "$$0=Y_{11}+Y_{12}$$\n",
    "<br>\n",
    "Por otro lado tambien recordemos que la matriz T del cuadripolo que es un capa solito en serie es algo como:\n",
    "$$\\begin{bmatrix}\n",
    "1 & Z\\\\\n",
    "0 & 1\n",
    "\\end{bmatrix}$$\n",
    "De todas formas los comprobamos abajo."
   ]
  },
  {
   "cell_type": "code",
   "execution_count": 28,
   "metadata": {},
   "outputs": [
    {
     "name": "stdout",
     "output_type": "stream",
     "text": [
      "Y_FET=\n",
      "⎡0   0⎤\n",
      "⎢     ⎥\n",
      "⎣gm  0⎦\n",
      "Y_C=\n",
      "⎡S⋅capa   -S⋅capa⎤\n",
      "⎢                ⎥\n",
      "⎣-S⋅capa  S⋅capa ⎦\n",
      "Y_Equi=\n",
      "⎡   S⋅capa     -S⋅capa⎤\n",
      "⎢                     ⎥\n",
      "⎣-S⋅capa + gm  S⋅capa ⎦\n",
      "T_Equi=\n",
      "⎡             -S⋅capa                    -1      ⎤\n",
      "⎢           ────────────             ────────────⎥\n",
      "⎢           -S⋅capa + gm             -S⋅capa + gm⎥\n",
      "⎢                                                ⎥\n",
      "⎢   2     2                                      ⎥\n",
      "⎢- S ⋅capa  - S⋅capa⋅(-S⋅capa + gm)    -S⋅capa   ⎥\n",
      "⎢──────────────────────────────────  ────────────⎥\n",
      "⎣           -S⋅capa + gm             -S⋅capa + gm⎦\n",
      "T_C=\n",
      "⎡     1   ⎤\n",
      "⎢1  ──────⎥\n",
      "⎢   S⋅capa⎥\n",
      "⎢         ⎥\n",
      "⎣0    1   ⎦\n",
      "T_total=\n",
      "⎡                    2     2                                      ⎤\n",
      "⎢     S⋅capa      - S ⋅capa  - S⋅capa⋅(-S⋅capa + gm)      -2      ⎥\n",
      "⎢- ──────────── + ──────────────────────────────────  ────────────⎥\n",
      "⎢  -S⋅capa + gm         S⋅capa⋅(-S⋅capa + gm)         -S⋅capa + gm⎥\n",
      "⎢                                                                 ⎥\n",
      "⎢           2     2                                               ⎥\n",
      "⎢        - S ⋅capa  - S⋅capa⋅(-S⋅capa + gm)             -S⋅capa   ⎥\n",
      "⎢        ──────────────────────────────────           ────────────⎥\n",
      "⎣                   -S⋅capa + gm                      -S⋅capa + gm⎦\n"
     ]
    }
   ],
   "source": [
    "gm, capa=symbols('gm capa')\n",
    "#Si ya use la letra C soy un bolas\n",
    "Y_FET= Matrix(([0,0],\n",
    "            [gm,0]))\n",
    "print(\"Y_FET=\")\n",
    "pprint(Y_FET)\n",
    "\n",
    "Y_C= Matrix(([S*capa,-S*capa],\n",
    "            [-S*capa,S*capa]))\n",
    "print(\"Y_C=\")\n",
    "pprint(Y_C)\n",
    "\n",
    "Y_Equi= Y_FET + Y_C\n",
    "print(\"Y_Equi=\")\n",
    "pprint(Y_Equi)\n",
    "\n",
    "#print(\"\\nY_Equi[1] es:\",Y_Equi[1])\n",
    "\n",
    "T_Equi= Matrix(([-Y_Equi[3]/Y_Equi[2],-1/Y_Equi[2]],\n",
    "            [-det(Y_Equi)/Y_Equi[2],-Y_Equi[0]/Y_Equi[2]]))\n",
    "print(\"T_Equi=\")\n",
    "pprint(T_Equi)\n",
    "\n",
    "T_C=Matrix(([-Y_C[3]/Y_C[2],-1/Y_C[2]],\n",
    "            [-det(Y_C)/Y_C[2],-Y_C[0]/Y_C[2]]))\n",
    "print(\"T_C=\")\n",
    "pprint(T_C)\n",
    "\n",
    "T_total=T_C*T_Equi\n",
    "print(\"T_total=\")\n",
    "pprint(T_total)"
   ]
  },
  {
   "cell_type": "markdown",
   "metadata": {},
   "source": [
    "Una vez que tenemos la T total recordemos que unicamente nos interesa la inversa de A ya que A por definicion es:$A=\\frac{V1}{V2}$ con la condicion de $I2=0$ es decir circuito abierto.<br>"
   ]
  },
  {
   "cell_type": "code",
   "execution_count": null,
   "metadata": {},
   "outputs": [],
   "source": []
  }
 ],
 "metadata": {
  "kernelspec": {
   "display_name": "Python 3",
   "language": "python",
   "name": "python3"
  },
  "language_info": {
   "codemirror_mode": {
    "name": "ipython",
    "version": 3
   },
   "file_extension": ".py",
   "mimetype": "text/x-python",
   "name": "python",
   "nbconvert_exporter": "python",
   "pygments_lexer": "ipython3",
   "version": "3.7.6"
  }
 },
 "nbformat": 4,
 "nbformat_minor": 4
}
