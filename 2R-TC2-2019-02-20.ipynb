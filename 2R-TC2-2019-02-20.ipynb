{
 "cells": [
  {
   "cell_type": "markdown",
   "metadata": {},
   "source": [
    "# Punto 1\n",
    "\n",
    "$$F_{(S)}=\\frac{1}{S^3 + S^2 +2S +1} =Y_{21(S)}$$\n",
    "Necesito que el numerador sea Impar, por lo tanto dado que el numerador esta compuesto por \"1\"(funcion par) dividimos por la parte impar del denominador.<br>\n",
    "Resultando en:\n",
    "$$F_{(S)}=\\frac{Y_{21}}{Y_{22}+1}=\\frac{\\frac{1}{S^3+2S}}{\\frac{S^2+1}{S^3+2S}+1}$$\n",
    "## El 1.1 no se me ocurre como meterlo aca sin subir dibujitos asique si me pinta despue subo los dibujitos!(Si, me hacen bullying por dibujar con los pies)"
   ]
  },
  {
   "cell_type": "code",
   "execution_count": 3,
   "metadata": {},
   "outputs": [
    {
     "name": "stdout",
     "output_type": "stream",
     "text": [
      "Veamos como queda el Y22 sin olvidar que los polos de Y21 son compartidos con Y22\n",
      "    S         1 \n",
      "────────── + ───\n",
      "  ⎛ 2    ⎞   2⋅S\n",
      "2⋅⎝S  + 2⎠      \n",
      "Aqui podemos ver claramente un inductor en derivacion y algo mas...\n",
      "No me voy a hacer el misterioso.\n",
      "Claramente es un serie de capacitor e inductor\n"
     ]
    }
   ],
   "source": [
    "from scipy import signal\n",
    "from sympy import *\n",
    "import math as m\n",
    "from splane import pzmap, grpDelay, bodePlot\n",
    "import numpy as np\n",
    "\n",
    "S=symbols('S')\n",
    "\n",
    "print(\"Veamos como queda el Y22 sin olvidar que los polos de Y21 son compartidos con Y22\")\n",
    "Y22=(S**2+1)/(S**3+2*S)\n",
    "pprint(apart(Y22))\n",
    "print(\"Aqui podemos ver claramente un inductor en derivacion y algo mas...\\nNo me voy a hacer el misterioso.\\nClaramente es un serie de capacitor e inductor\")\n",
    "Y2=Y22-1/(2*S)\n"
   ]
  },
  {
   "cell_type": "markdown",
   "metadata": {},
   "source": [
    "Ese serie de capa e inductor esta dado por:$$(\\frac{1}{SC} + SL)^-1=(\\frac{S^2 LC+1}{SC})^-1 = \\frac{SC}{S^2 LC +1}= \\frac{S}{L*(S^2 + \\frac{1}{LC})}=\\frac{S}{2*(S^2 +2)}$$\n",
    "De aqui que C=0.25 y L=2"
   ]
  },
  {
   "cell_type": "code",
   "execution_count": null,
   "metadata": {},
   "outputs": [],
   "source": []
  }
 ],
 "metadata": {
  "kernelspec": {
   "display_name": "Python 3",
   "language": "python",
   "name": "python3"
  },
  "language_info": {
   "codemirror_mode": {
    "name": "ipython",
    "version": 3
   },
   "file_extension": ".py",
   "mimetype": "text/x-python",
   "name": "python",
   "nbconvert_exporter": "python",
   "pygments_lexer": "ipython3",
   "version": "3.7.6"
  }
 },
 "nbformat": 4,
 "nbformat_minor": 4
}
